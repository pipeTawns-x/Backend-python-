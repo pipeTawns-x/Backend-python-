{
 "cells": [
  {
   "cell_type": "code",
   "execution_count": 3,
   "id": "f56f22bf-52d7-4b75-b743-ccfefceb9ae0",
   "metadata": {},
   "outputs": [
    {
     "name": "stdout",
     "output_type": "stream",
     "text": [
      "hello word \n"
     ]
    }
   ],
   "source": [
    "print (\"hello word \")"
   ]
  },
  {
   "cell_type": "code",
   "execution_count": null,
   "id": "834d9081-3eea-457f-af02-5dfe78b33113",
   "metadata": {},
   "outputs": [],
   "source": []
  }
 ],
 "metadata": {
  "kernelspec": {
   "display_name": "Python [conda env:base] *",
   "language": "python",
   "name": "conda-base-py"
  },
  "language_info": {
   "codemirror_mode": {
    "name": "ipython",
    "version": 3
   },
   "file_extension": ".py",
   "mimetype": "text/x-python",
   "name": "python",
   "nbconvert_exporter": "python",
   "pygments_lexer": "ipython3",
   "version": "3.12.7"
  }
 },
 "nbformat": 4,
 "nbformat_minor": 5
}
